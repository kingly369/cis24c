{
 "cells": [
  {
   "cell_type": "markdown",
   "metadata": {},
   "source": [
    "\n",
    "# CIS024C - Spring 2018 - Monday 5:30-9:25pm\n",
    "\n",
    "\n",
    "## Homework 9\n",
    "\n",
    "Homework 9 covers exercises involving  external libraries, creating user defined libraries and working with command line arguments.\n",
    "\n",
    "The below sites have some interesting and useful information on these topics\n",
    "\n",
    "https://docs.python.org/2/library/index.html\n",
    "http://www.pythonforbeginners.com/argv/more-fun-with-sys-argv\n",
    "https://docs.python.org/2/library/argparse.html\n",
    "\n",
    "You will need to download this notebook and use this as a starting point for your homework. You will just need to fill in the content of each code-block (cell) and execute. Once you have completed all the exercises, you will need to save and upload this to your github repository under a folder called hw7.\n",
    "\n",
    "Note also the exercises build on top of one another so you might be able to do the next exercise if you have not completed the previous exercise.\n",
    "\n",
    "Post any questions you have on our Slack at **cis-024c1.slack.com**\n",
    "\n",
    "**Please refer back to hw1 and slack for instructions on how to setup your computer for developing using Python.**"
   ]
  },
  {
   "cell_type": "markdown",
   "metadata": {},
   "source": [
    "### Helpful Jupyter Commands\n",
    "\n",
    "Below are some useful commands to know when using Jupyter\n",
    "\n",
    "1. You can add a new cell by clicking on the \"+\" icon on top.\n",
    "2. You can delete a cell by selecting that cell and clicking on the \"scissors\" icon on top.\n",
    "3. You can execute a cell by either pressing shift+enter or selecting the \"play\" button on top.\n",
    "4. You can create a new file in Jupyter via the File menu->New Notebook option. Make sure to select Python 2 when creating your notebook.\n",
    "5. Also, for your code blocks make sure that Code is selected instead of another option like Markdown.\n",
    "6. Use the Enter key to go to the next line in a cell to enter the next statement.\n",
    "7. You can clear results by clicking on the Cell menu item and selecting Current Output->Clear or All Output->Clear depending on whether you are trying to just clear the output for one cell or for all cells.\n",
    "8. In case your program has crashed for some reason (infinite loop, for example), you can restart your Python session by select Kernel in the menu and selecting Restart.\n"
   ]
  },
  {
   "cell_type": "markdown",
   "metadata": {},
   "source": [
    "#### Check Python Version"
   ]
  },
  {
   "cell_type": "code",
   "execution_count": null,
   "metadata": {},
   "outputs": [],
   "source": [
    "!python --version"
   ]
  },
  {
   "cell_type": "markdown",
   "metadata": {},
   "source": [
    "#### Sample Exercises with Exception Handling\n",
    "\n",
    "Week 8 Class Work can be found here\n",
    "\n",
    "https://github.com/cis024c/fall2017classwork/tree/master/week8"
   ]
  },
  {
   "cell_type": "markdown",
   "metadata": {},
   "source": [
    "**Exercise 1 - Testing your knowledge of External Libraries **\n",
    "\n",
    "Answer the below questions\n",
    "\n",
    "1. Name two benefits of using external libraries.\n",
    "2. What are the different ways of including an external library in a Python program?"
   ]
  },
  {
   "cell_type": "markdown",
   "metadata": {},
   "source": [
    "1. It lets you import libraries, so you can use their functions without knowing how did they do it. Additionally, it's quick and helps you create projects.\n",
    "2. from library import *, import library, import library as ml"
   ]
  },
  {
   "cell_type": "markdown",
   "metadata": {},
   "source": [
    "#### Exercise 2 -  Using the math library\n",
    "\n",
    "Import the math library in your program and do the following\n",
    "\n",
    "1. Request the user to enter a number between 1 and 10\n",
    "2. Compute the log (math.log) of the number\n",
    "3. Compute teh factorial (math.factorial) of the number\n",
    "4. Compute the square root (math.sqrt) of the number\n",
    "5. Compute the sine (math.sin) of the number\n",
    "\n",
    "Refer to https://docs.python.org/2/library/math.html for more information on the math library\n"
   ]
  },
  {
   "cell_type": "code",
   "execution_count": 2,
   "metadata": {},
   "outputs": [
    {
     "name": "stdout",
     "output_type": "stream",
     "text": [
      "Enter a number between 1 and 10: 4\n",
      "Log of number: 1.386294\n",
      "Factorial of number: 24.000000\n",
      "Sqrt of number: 2.000000\n",
      "Sin of number: -0.756802\n"
     ]
    }
   ],
   "source": [
    "import math\n",
    "userInput = int(input(\"Enter a number between 1 and 10: \"))\n",
    "print(\"Log of number: %f\" %(math.log(userInput)))\n",
    "print(\"Factorial of number: %f\" %(math.factorial(userInput)))\n",
    "print(\"Sqrt of number: %f\" %(math.sqrt(userInput)))\n",
    "print(\"Sin of number: %f\" %(math.sin(userInput)))"
   ]
  },
  {
   "cell_type": "markdown",
   "metadata": {},
   "source": [
    "#### Exercise 3 - Random numbers\n",
    "\n",
    "Generate a list of 10 random numbers between 1 and 100. Use random.sample function. Write a program to then sort the list of numbers in ascending order."
   ]
  },
  {
   "cell_type": "code",
   "execution_count": 14,
   "metadata": {},
   "outputs": [
    {
     "data": {
      "text/plain": [
       "[64, 23, 10, 93, 56, 48, 94, 86, 47, 92]"
      ]
     },
     "execution_count": 14,
     "metadata": {},
     "output_type": "execute_result"
    }
   ],
   "source": [
    "import random\n",
    "random.sample(range(1,101),10)\n"
   ]
  },
  {
   "cell_type": "markdown",
   "metadata": {},
   "source": [
    "#### Exercise 4 - Creating your own library\n",
    "\n",
    "Create a python module **helperfunctions.py** with the following functions.\n",
    "\n",
    "1. add - returns the sum of two numbers\n",
    "2. diff - returns the difference between two numbers\n",
    "3. product - returns the product of two numbers\n",
    "4. greatest - returns the greatest of two numbers.\n",
    "\n",
    "Import this module in your python program and use the functions your created on any two numbers and print the result.\n",
    "\n",
    "Note: Upload the **helperfunctions.py** module to your github folder along with the notebook file. You can also upload **helperfunctions.py** to Canvas if you are having trouble copying it to Github"
   ]
  },
  {
   "cell_type": "code",
   "execution_count": 17,
   "metadata": {},
   "outputs": [
    {
     "name": "stdout",
     "output_type": "stream",
     "text": [
      "Overwriting helperfunctions.py\n"
     ]
    }
   ],
   "source": [
    "%%writefile helperfunctions.py\n",
    "\n",
    "def add(x,y):\n",
    "    return x +y\n",
    "def diff(x,y):\n",
    "    return abs(x-y)\n",
    "def product(x,y):\n",
    "    return x*y\n",
    "def greatest(x,y):\n",
    "    return max(x,y)"
   ]
  },
  {
   "cell_type": "code",
   "execution_count": 21,
   "metadata": {},
   "outputs": [
    {
     "name": "stdout",
     "output_type": "stream",
     "text": [
      "15\n",
      "5\n",
      "50\n",
      "10\n"
     ]
    }
   ],
   "source": [
    "from helperfunctions import *\n",
    "print(add(5,10))\n",
    "print(diff(5,10))\n",
    "print(product(5,10))\n",
    "print(greatest(5,10))\n"
   ]
  },
  {
   "cell_type": "markdown",
   "metadata": {},
   "source": [
    "#### Exercise 5 - Using map \n",
    "\n",
    "Write a Python program using the map function to increase the current salary of 10 employees by 10 percent. \n",
    "\n",
    "a) Use a normal function as an argument to the map \n",
    "b) Use a lambda function as an argument to the map\n",
    "\n",
    "Display the result\n",
    "\n",
    "- You will need a list of employee salaries (create an arbitrary list)\n"
   ]
  },
  {
   "cell_type": "code",
   "execution_count": 69,
   "metadata": {},
   "outputs": [
    {
     "name": "stdout",
     "output_type": "stream",
     "text": [
      "{'Jason': '44000.00', 'Athena': '33000.00', 'Gary': '44000.00', 'Kent': '109998.90', 'Daniel': '110000.00', 'Francis': '770000.00', 'Kenny': '132000.00', 'Jonathan': '55000.00', 'Brandon': '33000.00', 'Trina': '55000.00'}\n",
      "{'Jason': '44000.00', 'Athena': '33000.00', 'Gary': '44000.00', 'Kent': '109998.90', 'Daniel': '110000.00', 'Francis': '770000.00', 'Kenny': '132000.00', 'Jonathan': '55000.00', 'Brandon': '33000.00', 'Trina': '55000.00'}\n"
     ]
    }
   ],
   "source": [
    "def interest(x):\n",
    "    return x*1.10\n",
    "dictA = {'Jason': 40000, 'Athena': 30000, 'Gary': 40000, 'Kent': 99999, 'Daniel': 100000, 'Francis': 700000, 'Kenny': 120000, 'Jonathan': 50000,'Brandon':30000,'Trina':50000}\n",
    "listA = []\n",
    "listB = []\n",
    "for x in dictA:\n",
    "    listA.append(dictA[x])\n",
    "    listB.append(dictA[x])\n",
    "listA = list(map(lambda x: x*1.10, listA))\n",
    "counter = 0\n",
    "\n",
    "for y in dictA:\n",
    "    temp = \"%0.2f\" %(listA[counter])\n",
    "    dictA[y] = temp\n",
    "    counter += 1\n",
    "print(dictA)\n",
    "\n",
    "listB = list(map(interest,listB))\n",
    "counter = 0\n",
    "for x in dictA:\n",
    "    temp = '%0.2f' %(listB[counter])\n",
    "    dictA[x] = temp\n",
    "    counter+=1\n",
    "print(dictA)"
   ]
  },
  {
   "cell_type": "markdown",
   "metadata": {},
   "source": [
    "## OPTIONAL EXERCISES\n",
    "\n",
    "Below is a set of optional exercises. These will not be graded but the solutions will be posted. I would strongly encourage you to try these out if you are done with the mandatory homework exercises to improve your understanding of python."
   ]
  },
  {
   "cell_type": "markdown",
   "metadata": {},
   "source": [
    "#### Exercise 6\n",
    "\n",
    "Recall the similarity function to compute the edit distance in homework 7 and classwork 7. \n",
    "\n",
    "Create a Python module using the similarity function. Write a Python program to invoke the similarity function on any word entered by the user."
   ]
  },
  {
   "cell_type": "code",
   "execution_count": null,
   "metadata": {},
   "outputs": [],
   "source": []
  },
  {
   "cell_type": "markdown",
   "metadata": {},
   "source": [
    "#### Exercise 7\n",
    "\n",
    "Write a Python program using the urrlib2 library to print all the URLs present on the website http://www.cnn.com\n",
    "\n",
    "Note that you will need to search for href tags in order to locate links. An easier option is to use an HTML parser module to parse the website and then you can query it for a set of links. \n",
    "\n"
   ]
  },
  {
   "cell_type": "code",
   "execution_count": 97,
   "metadata": {},
   "outputs": [],
   "source": [
    "import urllib.request\n",
    "pageDetails = urllib.request.urlopen('http://www.cnn.com')"
   ]
  },
  {
   "cell_type": "code",
   "execution_count": 100,
   "metadata": {},
   "outputs": [
    {
     "ename": "TypeError",
     "evalue": "must be str, not bytes",
     "output_type": "error",
     "traceback": [
      "\u001b[1;31m---------------------------------------------------------------------------\u001b[0m",
      "\u001b[1;31mTypeError\u001b[0m                                 Traceback (most recent call last)",
      "\u001b[1;32m<ipython-input-100-605e1dc20bf3>\u001b[0m in \u001b[0;36m<module>\u001b[1;34m()\u001b[0m\n\u001b[0;32m     12\u001b[0m \u001b[1;33m\u001b[0m\u001b[0m\n\u001b[0;32m     13\u001b[0m \u001b[0mparser\u001b[0m \u001b[1;33m=\u001b[0m \u001b[0mMyHTMLParser\u001b[0m\u001b[1;33m(\u001b[0m\u001b[1;33m)\u001b[0m\u001b[1;33m\u001b[0m\u001b[0m\n\u001b[1;32m---> 14\u001b[1;33m \u001b[0mparser\u001b[0m\u001b[1;33m.\u001b[0m\u001b[0mfeed\u001b[0m\u001b[1;33m(\u001b[0m\u001b[0mpageDetails\u001b[0m\u001b[1;33m.\u001b[0m\u001b[0mread\u001b[0m\u001b[1;33m(\u001b[0m\u001b[1;33m)\u001b[0m\u001b[1;33m)\u001b[0m\u001b[1;33m\u001b[0m\u001b[0m\n\u001b[0m",
      "\u001b[1;32m~\\Documents\\CodingStuff\\PythonStuff\\lib\\html\\parser.py\u001b[0m in \u001b[0;36mfeed\u001b[1;34m(self, data)\u001b[0m\n\u001b[0;32m    108\u001b[0m         \u001b[1;32mas\u001b[0m \u001b[0myou\u001b[0m \u001b[0mwant\u001b[0m \u001b[1;33m(\u001b[0m\u001b[0mmay\u001b[0m \u001b[0minclude\u001b[0m \u001b[1;34m'\\n'\u001b[0m\u001b[1;33m)\u001b[0m\u001b[1;33m.\u001b[0m\u001b[1;33m\u001b[0m\u001b[0m\n\u001b[0;32m    109\u001b[0m         \"\"\"\n\u001b[1;32m--> 110\u001b[1;33m         \u001b[0mself\u001b[0m\u001b[1;33m.\u001b[0m\u001b[0mrawdata\u001b[0m \u001b[1;33m=\u001b[0m \u001b[0mself\u001b[0m\u001b[1;33m.\u001b[0m\u001b[0mrawdata\u001b[0m \u001b[1;33m+\u001b[0m \u001b[0mdata\u001b[0m\u001b[1;33m\u001b[0m\u001b[0m\n\u001b[0m\u001b[0;32m    111\u001b[0m         \u001b[0mself\u001b[0m\u001b[1;33m.\u001b[0m\u001b[0mgoahead\u001b[0m\u001b[1;33m(\u001b[0m\u001b[1;36m0\u001b[0m\u001b[1;33m)\u001b[0m\u001b[1;33m\u001b[0m\u001b[0m\n\u001b[0;32m    112\u001b[0m \u001b[1;33m\u001b[0m\u001b[0m\n",
      "\u001b[1;31mTypeError\u001b[0m: must be str, not bytes"
     ]
    }
   ],
   "source": [
    "from html.parser import HTMLParser\n",
    "\n",
    "class MyHTMLParser(HTMLParser):\n",
    "    def handle_starttag(self, tag, attrs):\n",
    "        print(\"Encountered a start tag:\", tag)\n",
    "\n",
    "    def handle_endtag(self, tag):\n",
    "        print(\"Encountered an end tag :\", tag)\n",
    "\n",
    "    def handle_data(self, data):\n",
    "        print(\"Encountered some data  :\", data)\n",
    "\n",
    "parser = MyHTMLParser()\n",
    "parser.feed(pageDetails.read())"
   ]
  },
  {
   "cell_type": "code",
   "execution_count": 95,
   "metadata": {},
   "outputs": [
    {
     "name": "stdout",
     "output_type": "stream",
     "text": [
      "Data     : http://www.w3.org/TR/html4/strict.dtd\">\n"
     ]
    }
   ],
   "source": []
  },
  {
   "cell_type": "markdown",
   "metadata": {},
   "source": [
    "#### Exercise 8\n",
    "\n",
    "Write a Python program to use the Twitter library tweepy to retrieve a set of tweets from the internet.\n",
    "\n",
    "More information on how to do this can be found here\n",
    "\n",
    "http://docs.tweepy.org/en/v3.5.0/"
   ]
  },
  {
   "cell_type": "code",
   "execution_count": 7,
   "metadata": {},
   "outputs": [],
   "source": [
    "### YOUR CODE GOES BELOW\n",
    "\n",
    "\n",
    "### END CODE"
   ]
  },
  {
   "cell_type": "code",
   "execution_count": null,
   "metadata": {},
   "outputs": [],
   "source": [
    "### YOUR CODE GOES BELOW\n",
    "\n",
    "\n",
    "### END CODE"
   ]
  }
 ],
 "metadata": {
  "kernelspec": {
   "display_name": "Python 3",
   "language": "python",
   "name": "python3"
  },
  "language_info": {
   "codemirror_mode": {
    "name": "ipython",
    "version": 3
   },
   "file_extension": ".py",
   "mimetype": "text/x-python",
   "name": "python",
   "nbconvert_exporter": "python",
   "pygments_lexer": "ipython3",
   "version": "3.6.5"
  }
 },
 "nbformat": 4,
 "nbformat_minor": 2
}
